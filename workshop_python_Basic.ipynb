{
  "nbformat": 4,
  "nbformat_minor": 0,
  "metadata": {
    "colab": {
      "name": "workshop_python_Basic.ipynb",
      "provenance": [],
      "collapsed_sections": [],
      "include_colab_link": true
    },
    "kernelspec": {
      "name": "python3",
      "display_name": "Python 3"
    }
  },
  "cells": [
    {
      "cell_type": "markdown",
      "metadata": {
        "id": "view-in-github",
        "colab_type": "text"
      },
      "source": [
        "<a href=\"https://colab.research.google.com/github/asepmuhidin/webinar-it/blob/master/workshop_python_Basic.ipynb\" target=\"_parent\"><img src=\"https://colab.research.google.com/assets/colab-badge.svg\" alt=\"Open In Colab\"/></a>"
      ]
    },
    {
      "cell_type": "markdown",
      "metadata": {
        "id": "ADLfE9XHrQXD",
        "colab_type": "text"
      },
      "source": [
        "# Workshop Python For Data Science Basic"
      ]
    },
    {
      "cell_type": "markdown",
      "metadata": {
        "id": "0mD1rZFbr85T",
        "colab_type": "text"
      },
      "source": [
        "### Python"
      ]
    },
    {
      "cell_type": "code",
      "metadata": {
        "id": "We_euZQvqlNl",
        "colab_type": "code",
        "colab": {}
      },
      "source": [
        "## Perintah output\n",
        "print(\"Hello\")"
      ],
      "execution_count": null,
      "outputs": []
    },
    {
      "cell_type": "code",
      "metadata": {
        "id": "I73oq1IgeeJK",
        "colab_type": "code",
        "colab": {}
      },
      "source": [
        "## Latihan : output : Hello juga\n"
      ],
      "execution_count": null,
      "outputs": []
    },
    {
      "cell_type": "code",
      "metadata": {
        "id": "qcX7r_LysyHw",
        "colab_type": "code",
        "colab": {}
      },
      "source": [
        "## Perintah Kondisional\n",
        "a=0\n",
        "if (a>0):\n",
        "  str=\"Positif\"\n",
        "elif(a<0):\n",
        "  str=\"Negatif\"\n",
        "else:\n",
        "  str=\"Nol\"\n",
        "print(str)"
      ],
      "execution_count": null,
      "outputs": []
    },
    {
      "cell_type": "code",
      "metadata": {
        "id": "YxMyStX2euVO",
        "colab_type": "code",
        "colab": {}
      },
      "source": [
        "## Latihan : Menentukan bilangan ganjil dan genap\n"
      ],
      "execution_count": null,
      "outputs": []
    },
    {
      "cell_type": "code",
      "metadata": {
        "id": "vtoIuaXttMle",
        "colab_type": "code",
        "colab": {}
      },
      "source": [
        "## perintang perulangan\n",
        "for i in range(10):\n",
        "  print(i, end=\" \")"
      ],
      "execution_count": null,
      "outputs": []
    },
    {
      "cell_type": "code",
      "metadata": {
        "id": "YnVhd2HqdR6E",
        "colab_type": "code",
        "colab": {}
      },
      "source": [
        "##Perulangan (start,stop,step)\n",
        "for i in range(1,11,1):\n",
        "  print(i, end=\" \")"
      ],
      "execution_count": null,
      "outputs": []
    },
    {
      "cell_type": "code",
      "metadata": {
        "id": "pQJBYbR7eH4Y",
        "colab_type": "code",
        "colab": {}
      },
      "source": [
        "## Latihan : Output : 10,9,8,7,6,5 "
      ],
      "execution_count": null,
      "outputs": []
    },
    {
      "cell_type": "code",
      "metadata": {
        "id": "DXCo8AlAtqoh",
        "colab_type": "code",
        "colab": {}
      },
      "source": [
        "## List\n",
        "a=[2,3,4,1,4,2,3]\n",
        "a[3]=10           # update item index ke-3 \n",
        "a.append(20)      # menambahkan item list\n",
        "\n",
        "print(a[0])"
      ],
      "execution_count": null,
      "outputs": []
    },
    {
      "cell_type": "code",
      "metadata": {
        "id": "Yf2H8_AMdgB0",
        "colab_type": "code",
        "colab": {}
      },
      "source": [
        "##Menampilkan seluruh element list\n",
        "for i in a:\n",
        "  print(i, end =\" \")"
      ],
      "execution_count": null,
      "outputs": []
    },
    {
      "cell_type": "code",
      "metadata": {
        "id": "G_0yhGTBdqhE",
        "colab_type": "code",
        "colab": {}
      },
      "source": [
        "a.sort()\n",
        "print(a)"
      ],
      "execution_count": null,
      "outputs": []
    },
    {
      "cell_type": "code",
      "metadata": {
        "id": "QQbiqm9id1SB",
        "colab_type": "code",
        "colab": {}
      },
      "source": [
        "a.reverse()\n",
        "print(a)"
      ],
      "execution_count": null,
      "outputs": []
    },
    {
      "cell_type": "code",
      "metadata": {
        "id": "VAhsQRxuuIny",
        "colab_type": "code",
        "colab": {}
      },
      "source": [
        "## Tuple\n",
        "a=(3,4,2,3,4,1)\n",
        "print(a[0])"
      ],
      "execution_count": null,
      "outputs": []
    },
    {
      "cell_type": "code",
      "metadata": {
        "id": "647r7yhmueFG",
        "colab_type": "code",
        "colab": {}
      },
      "source": [
        "## Dictionary\n",
        "kamus={\"makan\":\"eat\", \"minum\":\"drink\", \"makanminum\":'Gak Puasa'}\n",
        "print(kamus[\"makanminum\"])"
      ],
      "execution_count": null,
      "outputs": []
    },
    {
      "cell_type": "code",
      "metadata": {
        "id": "SWisqOMVgjua",
        "colab_type": "code",
        "colab": {}
      },
      "source": [
        "for k in kamus:\n",
        "  print(k)"
      ],
      "execution_count": null,
      "outputs": []
    },
    {
      "cell_type": "code",
      "metadata": {
        "id": "csdhJugIhPAQ",
        "colab_type": "code",
        "colab": {}
      },
      "source": [
        "for i in kamus.items():\n",
        "  print(i)"
      ],
      "execution_count": null,
      "outputs": []
    },
    {
      "cell_type": "code",
      "metadata": {
        "id": "-8nzzh1zhg6y",
        "colab_type": "code",
        "colab": {}
      },
      "source": [
        "for k,v in kamus.items():\n",
        "  print(v) "
      ],
      "execution_count": null,
      "outputs": []
    },
    {
      "cell_type": "code",
      "metadata": {
        "id": "-GXbPtHE1wNe",
        "colab_type": "code",
        "colab": {}
      },
      "source": [
        "## Set\n",
        "jenis_kelamin={\"Laki-laki\",\"Perempuan\"}\n",
        "print(jenis_kelamin)"
      ],
      "execution_count": null,
      "outputs": []
    },
    {
      "cell_type": "markdown",
      "metadata": {
        "id": "pCGD5vkth20Y",
        "colab_type": "text"
      },
      "source": [
        "## Numpy Basic (Pengenalan)\n",
        "### NumPy (Numerical Python). sesuai dengan namanya, library ini digunakan untuk scientific computing. "
      ]
    },
    {
      "cell_type": "code",
      "metadata": {
        "id": "NA0dGv2Oh-YE",
        "colab_type": "code",
        "colab": {}
      },
      "source": [
        "import numpy as np\n",
        "##contoh penjumlahan dengan list\n",
        "a=[1,1,1]\n",
        "b=[2,2,2]\n",
        "c=a+b\n",
        "print(c) "
      ],
      "execution_count": null,
      "outputs": []
    },
    {
      "cell_type": "code",
      "metadata": {
        "id": "IdAYCXwvlP2q",
        "colab_type": "code",
        "colab": {}
      },
      "source": [
        "x=np.array([1,1,1])\n",
        "y=np.array([2,2,2])\n",
        "z=x+y\n",
        "print(z)"
      ],
      "execution_count": null,
      "outputs": []
    },
    {
      "cell_type": "code",
      "metadata": {
        "id": "AF2H5zqrlk-U",
        "colab_type": "code",
        "colab": {}
      },
      "source": [
        "print(type(z),type(c))\n",
        "print(z.dtype)"
      ],
      "execution_count": null,
      "outputs": []
    },
    {
      "cell_type": "code",
      "metadata": {
        "id": "kvLUr9d4lv49",
        "colab_type": "code",
        "colab": {}
      },
      "source": [
        "z.ndim"
      ],
      "execution_count": null,
      "outputs": []
    },
    {
      "cell_type": "code",
      "metadata": {
        "id": "Qy0AhJ_PmiAF",
        "colab_type": "code",
        "colab": {
          "base_uri": "https://localhost:8080/",
          "height": 34
        },
        "outputId": "1cd2cb0d-c066-4332-d041-da74d0986876"
      },
      "source": [
        "z.shape"
      ],
      "execution_count": null,
      "outputs": [
        {
          "output_type": "execute_result",
          "data": {
            "text/plain": [
              "(3,)"
            ]
          },
          "metadata": {
            "tags": []
          },
          "execution_count": 33
        }
      ]
    },
    {
      "cell_type": "code",
      "metadata": {
        "id": "e5v2MDdQ5L4q",
        "colab_type": "code",
        "colab": {}
      },
      "source": [
        "##Generate number\n",
        "x=np.arange(1,11,1)\n",
        "x"
      ],
      "execution_count": null,
      "outputs": []
    },
    {
      "cell_type": "code",
      "metadata": {
        "id": "u0CIkuSc5WTB",
        "colab_type": "code",
        "colab": {}
      },
      "source": [
        "x=np.linspace(1,20,num=40)\n",
        "x"
      ],
      "execution_count": null,
      "outputs": []
    },
    {
      "cell_type": "markdown",
      "metadata": {
        "id": "ymEScFs0n5Dq",
        "colab_type": "text"
      },
      "source": [
        "# Pandas \n",
        "## Pandas (Python for Data Analysis) adalah library Python yang fokus untuk proses analisis data seperti manipulasi data, persiapan data, dan pembersihan data"
      ]
    },
    {
      "cell_type": "code",
      "metadata": {
        "id": "3oigVdvkoEQW",
        "colab_type": "code",
        "colab": {}
      },
      "source": [
        "import pandas as pd\n",
        "\n",
        "##Membuat data series dan DataFrame\n",
        "##Data Series\n",
        "s=pd.Series([1,1,1,1],index=['a','b','c','d'])\n",
        "s\n"
      ],
      "execution_count": null,
      "outputs": []
    },
    {
      "cell_type": "code",
      "metadata": {
        "id": "VR57qPhNrBmJ",
        "colab_type": "code",
        "colab": {}
      },
      "source": [
        "d=pd.Series([2,2,2,5],index=['a','b','c','d'])\n",
        "z=s+d\n",
        "z"
      ],
      "execution_count": null,
      "outputs": []
    },
    {
      "cell_type": "code",
      "metadata": {
        "id": "UWvUPMNzraCF",
        "colab_type": "code",
        "colab": {}
      },
      "source": [
        "print(s['c'])\n",
        "print(s[['a','d']])"
      ],
      "execution_count": null,
      "outputs": []
    },
    {
      "cell_type": "code",
      "metadata": {
        "id": "Cs1PRnPSqWy1",
        "colab_type": "code",
        "colab": {}
      },
      "source": [
        "##Data Frame\n",
        "data=pd.DataFrame({\n",
        "    'kecamatan':['Cikarang Selatan','Cikarang Pusat','Cikarang Utara','Cikarang Timur','Cikarang Selatan','Cikarang Pusat','Cikarang Utara','Cikarang Timur'],\n",
        "    'tahun':[2005,2005,2005,2005,2010,2010,2010,2010],\n",
        "    'populasi':[34,36,38,50,38,40,45,65]\n",
        "})\n",
        "data"
      ],
      "execution_count": null,
      "outputs": []
    },
    {
      "cell_type": "code",
      "metadata": {
        "id": "fC3ym_B_tNUG",
        "colab_type": "code",
        "colab": {}
      },
      "source": [
        "##Mengetahui jumlah baris, kolom\n",
        "data.shape"
      ],
      "execution_count": null,
      "outputs": []
    },
    {
      "cell_type": "code",
      "metadata": {
        "id": "5sUwthTqwgek",
        "colab_type": "code",
        "colab": {}
      },
      "source": [
        "##Mengetahui deskripsi data\n",
        "data.describe()"
      ],
      "execution_count": null,
      "outputs": []
    },
    {
      "cell_type": "code",
      "metadata": {
        "id": "SLxZy_b-w-gV",
        "colab_type": "code",
        "colab": {}
      },
      "source": [
        "##Mengakses baris\n",
        "data.loc[3]"
      ],
      "execution_count": null,
      "outputs": []
    },
    {
      "cell_type": "code",
      "metadata": {
        "id": "jB6nAzBmyRlu",
        "colab_type": "code",
        "colab": {}
      },
      "source": [
        "##Mengkases baris tertentu\n",
        "data.loc[1:3]"
      ],
      "execution_count": null,
      "outputs": []
    },
    {
      "cell_type": "code",
      "metadata": {
        "id": "-P2qIlx2x5pu",
        "colab_type": "code",
        "colab": {}
      },
      "source": [
        "##Mengakses kolom\n",
        "data[['tahun','populasi']]"
      ],
      "execution_count": null,
      "outputs": []
    },
    {
      "cell_type": "code",
      "metadata": {
        "id": "gs7rKuMUyA0V",
        "colab_type": "code",
        "colab": {}
      },
      "source": [
        "##Mengakses baris,kolom tertentu\n",
        "data['tahun'][4]"
      ],
      "execution_count": null,
      "outputs": []
    },
    {
      "cell_type": "markdown",
      "metadata": {
        "id": "kOPcQOmny619",
        "colab_type": "text"
      },
      "source": [
        "# Matplotlib\n",
        "## Matplotlib adalah library Python yang fokus pada visualisasi data seperti membuat plot grafik"
      ]
    },
    {
      "cell_type": "code",
      "metadata": {
        "id": "r3yuLDU3zGAy",
        "colab_type": "code",
        "colab": {}
      },
      "source": [
        "import matplotlib.pyplot as plt\n",
        "\n",
        "#membuat grapik garis persamaan y=2x+1\n",
        "x=np.arange(1,11,1)\n",
        "plt.plot(x,2*x+1)\n",
        "plt.show()\n"
      ],
      "execution_count": null,
      "outputs": []
    },
    {
      "cell_type": "code",
      "metadata": {
        "id": "4qlxmNZd0uBz",
        "colab_type": "code",
        "colab": {}
      },
      "source": [
        "##Menampilkan grafik populasi kecamatan cikarang selatan\n",
        "ciksel=data[data['kecamatan']=='Cikarang Selatan']\n",
        "ciksel.plot.scatter(x='tahun',y='populasi');"
      ],
      "execution_count": null,
      "outputs": []
    },
    {
      "cell_type": "code",
      "metadata": {
        "id": "b1EgmpU26ZKe",
        "colab_type": "code",
        "colab": {}
      },
      "source": [
        ""
      ],
      "execution_count": null,
      "outputs": []
    },
    {
      "cell_type": "markdown",
      "metadata": {
        "id": "9diWcxfFPcp9",
        "colab_type": "text"
      },
      "source": [
        "# Model Klasifikasi Machine Learning "
      ]
    },
    {
      "cell_type": "code",
      "metadata": {
        "id": "EV1mfO2NiZ8q",
        "colab_type": "code",
        "colab": {}
      },
      "source": [
        "from vega_datasets import data\n",
        "iris=data.iris()\n",
        "a=list(iris['species'].unique())\n",
        "a"
      ],
      "execution_count": null,
      "outputs": []
    },
    {
      "cell_type": "code",
      "metadata": {
        "id": "bV5MQsbDik4A",
        "colab_type": "code",
        "colab": {}
      },
      "source": [
        "colors={'setosa':'green','versicolor':'yellow', 'virginica':'red'}\n",
        "iris['color']=[colors[a] for a in iris['species']]"
      ],
      "execution_count": null,
      "outputs": []
    },
    {
      "cell_type": "code",
      "metadata": {
        "id": "xwwNZF9-kDaR",
        "colab_type": "code",
        "colab": {}
      },
      "source": [
        "iris"
      ],
      "execution_count": null,
      "outputs": []
    },
    {
      "cell_type": "code",
      "metadata": {
        "id": "5EBaOXSYtMcW",
        "colab_type": "code",
        "colab": {}
      },
      "source": [
        "plt.figure(figsize=(8,5))\n",
        "plt.scatter(iris['petalLength'],iris['petalWidth'],c=iris['color'])\n",
        "plt.show()"
      ],
      "execution_count": null,
      "outputs": []
    },
    {
      "cell_type": "code",
      "metadata": {
        "id": "Ns9kb__gtdiR",
        "colab_type": "code",
        "colab": {}
      },
      "source": [
        "from sklearn.naive_bayes import GaussianNB\n",
        "from sklearn.model_selection import train_test_split\n",
        "from sklearn.metrics import r2_score "
      ],
      "execution_count": null,
      "outputs": []
    },
    {
      "cell_type": "code",
      "metadata": {
        "id": "X0m_GnYTwqfY",
        "colab_type": "code",
        "colab": {}
      },
      "source": [
        "cate={'setosa':0,'versicolor':1, 'virginica':2}\n",
        "iris['cat']=[cate[i] for i in iris['species']]\n",
        "X=iris[['sepalLength','sepalWidth','petalLength','petalWidth'\t]]\n",
        "Y=iris['cat']\n",
        "x_train,x_test,y_train,y_test=train_test_split(X,Y, test_size=0.2, random_state=0)"
      ],
      "execution_count": null,
      "outputs": []
    },
    {
      "cell_type": "code",
      "metadata": {
        "id": "ipkuiiVNyUaB",
        "colab_type": "code",
        "colab": {}
      },
      "source": [
        "model=GaussianNB()\n",
        "model.fit(x_train,y_train)"
      ],
      "execution_count": null,
      "outputs": []
    },
    {
      "cell_type": "code",
      "metadata": {
        "id": "Z9eaFuQmzueh",
        "colab_type": "code",
        "colab": {}
      },
      "source": [
        "y_pred=model.predict(x_test)"
      ],
      "execution_count": null,
      "outputs": []
    },
    {
      "cell_type": "code",
      "metadata": {
        "id": "Idj4e-Rmz8SE",
        "colab_type": "code",
        "colab": {}
      },
      "source": [
        "y_pred==y_test"
      ],
      "execution_count": null,
      "outputs": []
    },
    {
      "cell_type": "code",
      "metadata": {
        "id": "0v4cow7O0CcD",
        "colab_type": "code",
        "colab": {}
      },
      "source": [
        "r2_score(y_pred,y_test)"
      ],
      "execution_count": null,
      "outputs": []
    },
    {
      "cell_type": "code",
      "metadata": {
        "id": "gqMgjw530Rhh",
        "colab_type": "code",
        "colab": {}
      },
      "source": [
        " "
      ],
      "execution_count": null,
      "outputs": []
    }
  ]
}
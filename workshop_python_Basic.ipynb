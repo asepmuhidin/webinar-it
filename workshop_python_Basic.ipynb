{
  "nbformat": 4,
  "nbformat_minor": 0,
  "metadata": {
    "colab": {
      "name": "workshop_python_Basic.ipynb",
      "provenance": [],
      "collapsed_sections": [],
      "include_colab_link": true
    },
    "kernelspec": {
      "name": "python3",
      "display_name": "Python 3"
    }
  },
  "cells": [
    {
      "cell_type": "markdown",
      "metadata": {
        "id": "view-in-github",
        "colab_type": "text"
      },
      "source": [
        "<a href=\"https://colab.research.google.com/github/asepmuhidin/webinar-it/blob/master/workshop_python_Basic.ipynb\" target=\"_parent\"><img src=\"https://colab.research.google.com/assets/colab-badge.svg\" alt=\"Open In Colab\"/></a>"
      ]
    },
    {
      "cell_type": "markdown",
      "metadata": {
        "id": "ADLfE9XHrQXD",
        "colab_type": "text"
      },
      "source": [
        "# Workshop Python Basic"
      ]
    },
    {
      "cell_type": "markdown",
      "metadata": {
        "id": "0mD1rZFbr85T",
        "colab_type": "text"
      },
      "source": [
        "### Python"
      ]
    },
    {
      "cell_type": "code",
      "metadata": {
        "id": "We_euZQvqlNl",
        "colab_type": "code",
        "colab": {}
      },
      "source": [
        "## Perintah output\n",
        "print(\"Hello\")"
      ],
      "execution_count": null,
      "outputs": []
    },
    {
      "cell_type": "code",
      "metadata": {
        "id": "qcX7r_LysyHw",
        "colab_type": "code",
        "colab": {}
      },
      "source": [
        "## Perintah Kondisional\n",
        "a=0\n",
        "if (a>0):\n",
        "  str=\"Positif\"\n",
        "elif(a<0):\n",
        "  str=\"Negatif\"\n",
        "else:\n",
        "  str=\"Nol\"\n",
        "print(str)\n"
      ],
      "execution_count": null,
      "outputs": []
    },
    {
      "cell_type": "code",
      "metadata": {
        "id": "vtoIuaXttMle",
        "colab_type": "code",
        "colab": {}
      },
      "source": [
        "## perintang perulangan\n",
        "for i in range(10):\n",
        "  print(i, end=\" \")"
      ],
      "execution_count": null,
      "outputs": []
    },
    {
      "cell_type": "code",
      "metadata": {
        "id": "DXCo8AlAtqoh",
        "colab_type": "code",
        "colab": {}
      },
      "source": [
        "## List\n",
        "a=[2,3,4,1,4,2,3]\n",
        "print(a[0])"
      ],
      "execution_count": null,
      "outputs": []
    },
    {
      "cell_type": "code",
      "metadata": {
        "id": "VAhsQRxuuIny",
        "colab_type": "code",
        "colab": {}
      },
      "source": [
        "## Tuple\n",
        "a=(3,4,2,3,4,1)\n",
        "print(a[0])"
      ],
      "execution_count": null,
      "outputs": []
    },
    {
      "cell_type": "code",
      "metadata": {
        "id": "647r7yhmueFG",
        "colab_type": "code",
        "colab": {}
      },
      "source": [
        "## Dictionary\n",
        "kamus={\"makan\":\"eat\", \"minum\":\"drink\", \"makanminum\":'Gak Puasa'}\n",
        "print(kamus[\"makanminum\"])"
      ],
      "execution_count": null,
      "outputs": []
    },
    {
      "cell_type": "code",
      "metadata": {
        "id": "-GXbPtHE1wNe",
        "colab_type": "code",
        "colab": {}
      },
      "source": [
        "## Set\n",
        "jenis_kelamin={\"Laki-laki\",\"Perempuan\"}\n",
        "print(jenis_kelamin)"
      ],
      "execution_count": null,
      "outputs": []
    }
  ]
}